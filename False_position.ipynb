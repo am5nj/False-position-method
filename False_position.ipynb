{
  "nbformat": 4,
  "nbformat_minor": 0,
  "metadata": {
    "colab": {
      "provenance": [],
      "authorship_tag": "ABX9TyMOWci1N1ENRWYvPRrFeAq5",
      "include_colab_link": true
    },
    "kernelspec": {
      "name": "python3",
      "display_name": "Python 3"
    },
    "language_info": {
      "name": "python"
    }
  },
  "cells": [
    {
      "cell_type": "markdown",
      "metadata": {
        "id": "view-in-github",
        "colab_type": "text"
      },
      "source": [
        "<a href=\"https://colab.research.google.com/github/am5nj/False-position-method/blob/main/False_position.ipynb\" target=\"_parent\"><img src=\"https://colab.research.google.com/assets/colab-badge.svg\" alt=\"Open In Colab\"/></a>"
      ]
    },
    {
      "cell_type": "code",
      "execution_count": 2,
      "metadata": {
        "colab": {
          "base_uri": "https://localhost:8080/"
        },
        "id": "dp1hdFtngJkr",
        "outputId": "5cc66836-72ea-4d7c-b1fb-23d162147ae3"
      },
      "outputs": [
        {
          "output_type": "stream",
          "name": "stdout",
          "text": [
            "the error remaining is 0.03288050946013643, after 4 iteration \n",
            "(the root approximately found at 0.7706117203217654\n"
          ]
        }
      ],
      "source": [
        "def false_Postion(func, a, b, error_accept):\n",
        "  def f(x):\n",
        "    f = eval(func)\n",
        "    return f\n",
        "\n",
        "\n",
        "  i=0\n",
        "  c_before = 0\n",
        "  c = (a * f(b) - b * f(a)) / (f(b) - f(a))\n",
        "  error = abs(c - c_before)\n",
        "\n",
        "  while error > error_accept:\n",
        "\n",
        "    c_after = (a * f(b) - b * f(a)) / (f(b) - f(a))\n",
        "\n",
        "    if  f(a) * f(b) >= 0:\n",
        "      print(\"there is no root\")\n",
        "      quit()\n",
        "\n",
        "      \n",
        "    elif  f(c_after) * f(a) < 0:\n",
        "      error = abs(c_after-b)\n",
        "      b = c_after\n",
        "      i = i+1\n",
        "\n",
        "\n",
        "    elif  f(c_after) * f(b) < 0:\n",
        "      error = abs(c_after-a)\n",
        "      a = c_after\n",
        "      i = i+1\n",
        "\n",
        "\n",
        "    else:\n",
        "      print(\"something wrong\")\n",
        "      quit()\n",
        "\n",
        "\n",
        "  print(f\"the error remaining is {error}, after {i} iteration \")   \n",
        "  print(f\"(the root approximately found at {c_after}\")\n",
        "  \n",
        "\n",
        "\n",
        "\n",
        "\n",
        "\n",
        "\n",
        "false_Postion(\"(x**7 + x - 1) \", -1,1,0.05)"
      ]
    }
  ]
}